{
 "cells": [
  {
   "cell_type": "markdown",
   "metadata": {},
   "source": [
    "# Engraftment in FMT patients\n",
    "\n",
    "Fecal transplant results in both temporary and durable engraftment of donor bacteria. Tracking bacterial sources using 16S (a) and metagenomic species (b) identifies bacteria transferred across hosts as well as the invasion of environmental bacteria. Tracking strains by analyzing (c) the flexible genome or (d) SNVs with StrainFinder identifies similar dynamics at strain resolution. Plots in panels a–d display the frequency of ASVs, species, or strains attibutable to each source over time for each patient. Ecological dynamics could be deconvoluted using StrainFinder (e) demonstrating examples of donor strains that engrafted durably, temporarily, or unsuccessfully. (f) Distribution of donor strains in each patient that did not engraft, temporarily engrafted, or durably engrafted in each FMT patient. (g) Distribution of patient strains that uniformly persisted, temporarily decreased in abundance but persisted, or were lost in each FMT patient."
   ]
  },
  {
   "cell_type": "code",
   "execution_count": 1,
   "metadata": {},
   "outputs": [],
   "source": [
    "import pandas as pd, seaborn as sns, numpy as np, matplotlib.pyplot as plt\n",
    "import scipy.stats as stats\n",
    "import itertools, os, random\n",
    "\n",
    "sns.set_style('white')\n",
    "%matplotlib inline"
   ]
  },
  {
   "cell_type": "code",
   "execution_count": 2,
   "metadata": {},
   "outputs": [],
   "source": [
    "#read in metadata\n",
    "md = pd.read_csv('/Users/ndchu/Documents/uc_fmt/metadata/metadata_stool_dna_NV022018.tsv',\n",
    "                 sep='\\t', dtype={'patient': 'object',\n",
    "                                  'fmt': 'object'})"
   ]
  },
  {
   "cell_type": "markdown",
   "metadata": {},
   "source": [
    "## Source tracking in 16S and MGX are in the \"abx_recovery\" file."
   ]
  },
  {
   "cell_type": "markdown",
   "metadata": {},
   "source": [
    "## Flexible genome"
   ]
  },
  {
   "cell_type": "code",
   "execution_count": null,
   "metadata": {},
   "outputs": [],
   "source": [
    "#set up to read in data tables\n",
    "ncbi_dir = '/Users/ndchu/Documents/uc_fmt/metagenomics/strains_flexible/ncbi_ref_flex/'\n",
    "\n",
    "fp_dir = '/Users/ndchu/Documents/uc_fmt/metagenomics/strains_flexible/ncbi_ref_flex/faecalibacterium_prausnitzii_GCF_000162015/k_len'\n",
    "fp_files = os.listdir(fp_dir)\n",
    "os.chdir(fp_dir)"
   ]
  },
  {
   "cell_type": "code",
   "execution_count": null,
   "metadata": {},
   "outputs": [],
   "source": [
    "ncbi_dir = '/Users/ndchu/Documents/uc_fmt/metagenomics/strains_flexible/ncbi_ref_flex/'\n",
    "\n",
    "#get lists of genomes with their corresponding data directories\n",
    "ncbi_genomes = [x for x in os.listdir(ncbi_dir) if not x.startswith('.')]\n",
    "ncbi_genomes_data = [[x, ncbi_dir + x + '/k_len/'] for x in ncbi_genomes]"
   ]
  },
  {
   "cell_type": "code",
   "execution_count": null,
   "metadata": {},
   "outputs": [],
   "source": [
    "#now get dataframes for every genome for plot #1\n",
    "#structure is [[genome, df], [genome, df]]\n",
    "ncbi_data_dfs = [[x, read_flex_tables(y, md)] for x, y in ncbi_genomes_data]"
   ]
  },
  {
   "cell_type": "code",
   "execution_count": null,
   "metadata": {},
   "outputs": [],
   "source": [
    "#identify strain matches with the induction sample\n",
    "\n",
    "#patients with their donor induction samples\n",
    "induction_pairs = [['001', '0044-0076'],\n",
    "                   ['007', '0044-0115'],\n",
    "                   ['008', '0073-0028'],\n",
    "                   ['010', '0044-0157'],\n",
    "                   ['011', '0073-0028'],\n",
    "                   ['014', '0044-0169']]\n",
    "\n",
    "#We'll also have a set of placebo controls for comparison\n",
    "controls = [['004', '0044-0076'],\n",
    "            ['005', '0044-0115'],\n",
    "            ['006', '0073-0028'],\n",
    "            ['009', '0044-0157'],\n",
    "            ['012', '0073-0028'],\n",
    "            ['013', '0044-0169']]\n",
    "\n",
    "\n",
    "ncbi_induc_match_dfs = [[x, strain_match_wrap(y, induction_pairs)] for x, y in ncbi_data_dfs]"
   ]
  },
  {
   "cell_type": "markdown",
   "metadata": {},
   "source": [
    "### Iden"
   ]
  }
 ],
 "metadata": {
  "kernelspec": {
   "display_name": "Python 3",
   "language": "python",
   "name": "python3"
  },
  "language_info": {
   "codemirror_mode": {
    "name": "ipython",
    "version": 3
   },
   "file_extension": ".py",
   "mimetype": "text/x-python",
   "name": "python",
   "nbconvert_exporter": "python",
   "pygments_lexer": "ipython3",
   "version": "3.6.8"
  }
 },
 "nbformat": 4,
 "nbformat_minor": 2
}
