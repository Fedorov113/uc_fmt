{
 "cells": [
  {
   "cell_type": "markdown",
   "metadata": {},
   "source": [
    "# Plot proteobacteria in Patient 006 over time"
   ]
  },
  {
   "cell_type": "code",
   "execution_count": 1,
   "metadata": {},
   "outputs": [],
   "source": [
    "import pandas as pd, seaborn as sns, matplotlib.pyplot as plt, numpy as np\n",
    "import scipy.spatial.distance as dist, itertools\n",
    "import skbio.diversity as div, scipy.stats as stats, skbio.stats.ordination as ordination\n",
    "from io import StringIO\n",
    "from skbio import TreeNode\n",
    "from matplotlib.lines import Line2D\n",
    "\n",
    "sns.set_style('white')\n",
    "%matplotlib inline"
   ]
  },
  {
   "cell_type": "code",
   "execution_count": 2,
   "metadata": {},
   "outputs": [],
   "source": [
    "def relative_abundance_tidy(df, sample_col, value_col,\n",
    "                            rel_abun_name='rel_abun'):\n",
    "    \"\"\"\n",
    "    Take a tidy table, where the samples are in sample_col and the values\n",
    "    to be converted to relative abundance are in value_col.\n",
    "    \n",
    "    sample_col can also be a list of columns\n",
    "    \"\"\"\n",
    "    #define relatibe abundance calculation\n",
    "    rel_abun = lambda x: (x / x.sum())\n",
    "    #calculate new values\n",
    "    values = df.groupby(sample_col)[value_col].transform(rel_abun)\n",
    "    values = values.rename(rel_abun_name)\n",
    "    #add to df and return\n",
    "    df = pd.concat([df, values], axis=1)\n",
    "    return df"
   ]
  },
  {
   "cell_type": "code",
   "execution_count": 3,
   "metadata": {},
   "outputs": [],
   "source": [
    "#get patient colors\n",
    "dd_pat_col = {'0044': (0.5490196078431373, 0.33725490196078434, 0.29411764705882354),\n",
    "              '0073': (0.7686274509803922, 0.611764705882353, 0.5803921568627451),\n",
    "              '001': (0.17254901960784313, 0.6274509803921569, 0.17254901960784313),\n",
    "              '004': (1.0, 0.4980392156862745, 0.054901960784313725),\n",
    "              '005': (1.0, 0.7333333333333333, 0.47058823529411764),\n",
    "              '006': (0.8392156862745098, 0.15294117647058825, 0.1568627450980392),\n",
    "              '007': (0.596078431372549, 0.8745098039215686, 0.5411764705882353),\n",
    "              '008': (0.5803921568627451, 0.403921568627451, 0.7411764705882353),\n",
    "              '009': (1.0, 0.596078431372549, 0.5882352941176471),\n",
    "              '010': (0.7725490196078432, 0.6901960784313725, 0.8352941176470589),\n",
    "              '011': (0.12156862745098039, 0.4666666666666667, 0.7058823529411765),\n",
    "              '012': (0.8901960784313725, 0.4666666666666667, 0.7607843137254902),\n",
    "              '013': (0.9686274509803922, 0.7137254901960784, 0.8235294117647058),\n",
    "              '014': (0.6823529411764706, 0.7803921568627451, 0.9098039215686274)}\n",
    "dd_pat_col_name = {'patient_' + str(k): v for k, v in dd_pat_col.items()}\n",
    "\n",
    "#get patient colors on treatment\n",
    "dd_pat_treat = {'0044': (0.5490196078431373, 0.33725490196078434, 0.29411764705882354),\n",
    "              '0073': (0.7686274509803922, 0.611764705882353, 0.5803921568627451),\n",
    "              '001': sns.color_palette()[0], '004': sns.color_palette()[1],\n",
    "              '005': sns.color_palette()[1], '006': sns.color_palette()[1],\n",
    "              '007': sns.color_palette()[0], '008': sns.color_palette()[0],\n",
    "              '009': sns.color_palette()[1], '010': sns.color_palette()[0],\n",
    "              '011': sns.color_palette()[0], '012': sns.color_palette()[1],\n",
    "              '013': sns.color_palette()[1], '014': sns.color_palette()[0]}\n",
    "dd_pat_treat_name = {'patient_' + str(k): v for k, v in dd_pat_treat.items()}\n",
    "\n",
    "#get patient dashes on responder\n",
    "dd_pat_dash = {'0044': (), '0073': (),\n",
    "               '001': (), '004': (), '005': (),\n",
    "               '006': (), '007': (3, 2), '008': (3, 2),\n",
    "               '009': (), '010': (), '011': (),\n",
    "               '012': (), '013': (), '014': (3, 2)}\n",
    "dd_pat_dash_name = {'patient_' + str(k): v for k, v in dd_pat_dash.items()}"
   ]
  },
  {
   "cell_type": "code",
   "execution_count": 4,
   "metadata": {},
   "outputs": [],
   "source": [
    "#read in metadata\n",
    "md = pd.read_csv('/Users/ndchu/Documents/uc_fmt/metadata/metadata_stool_dna_NV022018.tsv',\n",
    "                 sep='\\t', dtype={'patient': 'object',\n",
    "                                  'fmt': 'object',\n",
    "                                  'fmt_induction': 'object'})\n",
    "md.loc[:, 'patient_plt'] = 'patient_' + md['patient']\n",
    "\n",
    "#read in patient metadata\n",
    "md_pat = pd.read_csv('/Users/ndchu/Documents/uc_fmt/metadata/metadata_patients_2019-04-10.tsv',\n",
    "                     sep='\\t', dtype={'patient': 'object',\n",
    "                                      'fmt': 'object',\n",
    "                                      'fmt_induction': 'object'})"
   ]
  },
  {
   "cell_type": "code",
   "execution_count": 5,
   "metadata": {},
   "outputs": [],
   "source": [
    "#read in 16S data\n",
    "otu_ftab = pd.read_csv('/Users/ndchu/Documents/uc_fmt/16S/dada2_AG302018/dd_asv_tab_f.tsv',\n",
    "                       sep='\\t', index_col=0).astype(int)\n",
    "otu_rare = pd.read_csv('/Users/ndchu/Documents/uc_fmt/16S/dada2_AG302018/dd_asv_tab_f_rare8500.tsv',\n",
    "                       sep='\\t', index_col=0).astype(int)\n",
    "\n",
    "#read in taxa\n",
    "taxa = pd.read_csv('/Users/ndchu/Documents/uc_fmt/16S/dada2_AG302018/taxonomy.tsv',\n",
    "                   sep='\\t')\n",
    "taxa[['domain', 'phylum', 'class',\n",
    "      'order', 'family', 'genus',\n",
    "      'species']] = taxa['Taxon'].str.split(';', expand=True)\n",
    "taxa = taxa.rename(columns={'Feature ID': '#OTU ID'})"
   ]
  },
  {
   "cell_type": "code",
   "execution_count": 6,
   "metadata": {},
   "outputs": [],
   "source": [
    "#read in meatgenomics\n",
    "mtphl = pd.read_csv('/Users/ndchu/Documents/uc_fmt/metagenomics/metaphlan/deepdive_metaphlan_tax_abun.tsv.gz',\n",
    "                    sep='\\t', index_col=0)\n",
    "#add taxa level\n",
    "mtphl.loc[:, 'taxa_level'] = mtphl.index.str.count('\\|') + 1"
   ]
  },
  {
   "cell_type": "code",
   "execution_count": 20,
   "metadata": {},
   "outputs": [],
   "source": [
    "#make a tidy dataframes\n",
    "otu_tidy = otu_ftab.reset_index().melt(id_vars='#OTU ID', \n",
    "                                       var_name='sample_id',\n",
    "                                       value_name='count')\n",
    "#otu_tidy = otu_tidy.loc[otu_tidy['count'] > 0]\n",
    "#add relative abundance\n",
    "otu_tidy = relative_abundance_tidy(otu_tidy, 'sample_id', 'count')\n",
    "#add metadata\n",
    "otu_tidy = otu_tidy.merge(md)\n",
    "#add taxa\n",
    "otu_tidy_taxa = otu_tidy.merge(taxa)\n",
    "\n",
    "#get mgx\n",
    "mtphl_md = mtphl.reset_index().rename(columns={'sample': \n",
    "                                               'sample_id'}).merge(md)\n",
    "#get only species\n",
    "mtphl_md_sp = mtphl_md.loc[mtphl_md['taxa_level'] == 7]"
   ]
  },
  {
   "cell_type": "code",
   "execution_count": 21,
   "metadata": {},
   "outputs": [],
   "source": [
    "#list donor samples\n",
    "sam_0044 = md.loc[md['patient'] == '0044']['sample_id'].tolist()\n",
    "sam_0073 = md.loc[md['patient'] == '0073']['sample_id'].tolist()\n",
    "\n",
    "#get donor otus\n",
    "otu_0044 = set(otu_ftab[sam_0044].loc[otu_ftab[sam_0044].astype(bool).any(axis=1)].index)\n",
    "otu_0073 = set(otu_ftab[sam_0073].loc[otu_ftab[sam_0073].astype(bool).any(axis=1)].index)\n",
    "\n",
    "donor_otus_dict = {'0044': otu_0044, '0073': otu_0073}\n",
    "\n",
    "#get donor species\n",
    "sp_0044 = set(mtphl_md_sp.loc[mtphl_md_sp['sample_id'].isin(sam_0044)]['taxa'])\n",
    "sp_0073 = set(mtphl_md_sp.loc[mtphl_md_sp['sample_id'].isin(sam_0073)]['taxa'])\n",
    "\n",
    "donor_sp_dict = {'0044': sp_0044, '0073': sp_0073}"
   ]
  },
  {
   "cell_type": "code",
   "execution_count": 22,
   "metadata": {},
   "outputs": [
    {
     "data": {
      "text/plain": [
       "array(['D_1__Bacteroidetes', 'D_1__Firmicutes', 'D_1__Actinobacteria',\n",
       "       'D_1__Proteobacteria', 'D_1__Verrucomicrobia', 'D_1__Tenericutes',\n",
       "       'D_1__Fusobacteria', 'D_1__Cyanobacteria',\n",
       "       'D_1__Epsilonbacteraeota', None, 'D_1__Lentisphaerae'],\n",
       "      dtype=object)"
      ]
     },
     "execution_count": 22,
     "metadata": {},
     "output_type": "execute_result"
    }
   ],
   "source": [
    "otu_tidy_taxa['phylum'].unique()"
   ]
  },
  {
   "cell_type": "code",
   "execution_count": 23,
   "metadata": {},
   "outputs": [],
   "source": [
    "#get df for plotting\n",
    "plt_df = otu_tidy_taxa.loc[(otu_tidy_taxa['patient'] == '006') & \\\n",
    "                           (otu_tidy_taxa['phylum'] == 'D_1__Proteobacteria')]\n",
    "\n",
    "#get cumlative abundance of proteos\n",
    "cabun = plt_df.groupby(['sample_id', 'days_past_fmt'])['rel_abun'].sum()\n",
    "cabun = cabun.rename('cabun_proteo').reset_index()"
   ]
  },
  {
   "cell_type": "code",
   "execution_count": 30,
   "metadata": {},
   "outputs": [
    {
     "data": {
      "image/png": "[encoded data removed]",
      "text/plain": [
       "<Figure size 288x144 with 1 Axes>"
      ]
     },
     "metadata": {
      "needs_background": "light"
     },
     "output_type": "display_data"
    }
   ],
   "source": [
    "fig = plt.figure(figsize = (4,2))\n",
    "\n",
    "ax = sns.lineplot(x='days_past_fmt', y='cabun_proteo',\n",
    "                  data=cabun)\n",
    "ax.axvspan(-8, 0, alpha=0.05, color='red') #antibiotics\n",
    "ax.axvspan(0, 84, alpha=0.05, color='green') #capsules\n",
    "\n",
    "ax.set_xlabel('Days after fecal transplant')\n",
    "ax.set_ylabel('Cumulative abundance\\nof Proteobacteria')\n",
    "\n",
    "sns.despine()\n",
    "plt.tight_layout()\n",
    "plt.savefig('/Users/ndchu/Documents/uc_fmt/figures/pat006_proteo_2019-05-05.png',\n",
    "            dpi=300)\n",
    "plt.savefig('/Users/ndchu/Documents/uc_fmt/figures/pat006_proteo_2019-05-05.pdf',\n",
    "            dpi=300)"
   ]
  },
  {
   "cell_type": "code",
   "execution_count": null,
   "metadata": {},
   "outputs": [],
   "source": [
    "otu_tidy"
   ]
  }
 ],
 "metadata": {
  "kernelspec": {
   "display_name": "Python 3",
   "language": "python",
   "name": "python3"
  },
  "language_info": {
   "codemirror_mode": {
    "name": "ipython",
    "version": 3
   },
   "file_extension": ".py",
   "mimetype": "text/x-python",
   "name": "python",
   "nbconvert_exporter": "python",
   "pygments_lexer": "ipython3",
   "version": "3.6.8"
  }
 },
 "nbformat": 4,
 "nbformat_minor": 2
}
