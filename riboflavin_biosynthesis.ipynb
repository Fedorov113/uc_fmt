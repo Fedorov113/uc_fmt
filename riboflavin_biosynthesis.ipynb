{
 "cells": [
  {
   "cell_type": "markdown",
   "metadata": {},
   "source": [
    "## Riboflavin biosynthesis"
   ]
  },
  {
   "cell_type": "code",
   "execution_count": 3,
   "metadata": {},
   "outputs": [],
   "source": [
    "def readfastatotuple(fastafile):\n",
    "    \"\"\"(file) -> list\n",
    "    reads fasta file and returns list of tuples of [[label, sequence]]\n",
    "    \"\"\"\n",
    "    with open(fastafile, \"r+\") as f:\n",
    "        read = f.read().split(\">\")[1:]\n",
    "        entries = [seq.partition(\"\\n\") for seq in read]\n",
    "        return [[seq[0][0:], seq[2].replace(\"\\n\", \"\")] for seq in entries]"
   ]
  },
  {
   "cell_type": "code",
   "execution_count": 4,
   "metadata": {},
   "outputs": [],
   "source": [
    "thile_fa_path = '/Users/ndchu/Documents/uc_fmt/metagenomics/function/riboflavin/peg.fasta'\n"
   ]
  },
  {
   "cell_type": "code",
   "execution_count": 20,
   "metadata": {},
   "outputs": [
    {
     "name": "stdout",
     "output_type": "stream",
     "text": [
      "['>fig|563191.3.peg.556 8-amino-7-oxononanoate synthase (EC 2.3.1.47) [A\\n', 'cidaminococcus sp. D21]\\n', 'MQSTYSHAPLASSSGARLRHRVEKRLRTLHAAGLARTITDLDMIGP\\n', 'VTARSRSGQIYTVF\\n', 'SSNNYLGLTHHPKVLQAAADALIKGGTSSTGSRLISGGIARGSDLEKKLARFKGC\\n', 'EAALL\\n', 'FNTGYLANLGALYTLLKKGDLVFSDELNHASIIDGCRISGAEVIVYRHNDMTDLEQKLAA\\n', 'YAS\\n', 'NQTAVKLIVTDGVFSMDGDLCRLPELAALKNRYGTLLMVDDAHAEGVIGPGGRGTEA\\n', 'YFGLQGTIDIQT\\n', 'GTLSKSLASEGGYVASSKEIIAYLTCRARPFVFSTFISPHDTAAAYAA\\n', 'LQVLQEEGPILMKTLREHTRF\\n', 'MREGLHTLKLPVLPGITPLIPIIVGSVERAAAIDAFLKE\\n', 'RGILLSAIRPPSVPMGTARLRLTLSAAHTK\\n', 'PQLQQVLSLLKEAWQQIP\\n']\n",
      "['>fig|563191.3.peg.1332 Adenosylmethionine-8-amino-7-oxononanoate amino\\n', 'transferase (EC 2.6.1.62) [Acidaminococcus sp. D21]\\n', 'MNDYQQRDLAHIWHPCSQ\\n', 'MKDYESLPPLFVDHAKGAWLYDEKGKAYLDIISSWWANLLGH\\n', 'GNPVINERIKAQLEKLEHVIFAGCTHE\\n', 'AAITLTERLLPLLPKGLTKFHFNDNGSSSVEAA\\n', 'LKIAFQYQLQTGHGERTRFMCLSDGYHGETIGALSV\\n', 'GSMDQFARLYQPMMMDNIHVKAPD\\n', 'CYRCPFHKTRENCQGDCIQYAEETFAQSAKETCALIVEPLLQGCA\\n', 'GMRVYPAVYLKKLRA\\n', 'LCDAYNVLLICDEIATGFGRTGKLFACDHAGITPDIMTVSKGLTGGYLPMSITL\\n', 'TTDAVY\\n', 'NAFYADYSEHKAFVHSHTYAGNPLGCAAAHGVLDELMDHGVLKKAQTLAPWLTEQLTQRV\\n', 'GE\\n', 'HPHVGEIRHIGLIHALELVADKKKKTPYDPSRRMGYELYQKALSKGLLLRPLGDVLYF\\n', 'NPPLTISREEL\\n', 'TFALDVLEDVLQSLS\\n']\n",
      "['>fig|563191.3.peg.1331 Dethiobiotin synthetase (EC 6.3.3.3) [Acidamino\\n', 'coccus sp. D21]\\n', 'MGRGLFVTGTGTDVGKTFVTALMVKKLREHGYDGSYYKAALSGAETGKDGGLIP\\n', 'GDAQFV\\n', 'KMAAGLSEAAGDLVTYIYKEAVSPHLASRWNKDSIDLTRIQEDYARHLARHDYLTMEGSG\\n', 'GI\\n', 'ICPLSWESEKRLLLEDVILALKLPCVIVADAGLGTINASVLTARYLKERGIRAKGFFF\\n', 'NHWDETDPMQQ\\n', 'DNWAMTEALTGLPILAGIKDGDRDLSLSADRLAALYE\\n']\n",
      "['>fig|563191.3.peg.1833 Biotin synthase (EC 2.8.1.6) [Acidaminococcus s\\n', 'p. D21]\\n', 'MSDQTIKTMTQSIIDGYRLKKDDAFVQDMLTMPLAALQEGAGALQRHFCGNHVDFCTIIN\\n', 'A\\n', 'RSGRCGENCKYCAQAACHHTSCEEYDFLDEKTIMETAKMDQDAGANRFAMVTSGRALTG\\n', 'KDFDKALSIY\\n', 'KAMKKDLTIDLCASHGILSEDQLRRLFASGVTSYHHNIETSRRFFPHICT\\n', 'SHTFDDRIRTIKAAQRAGF\\n', 'CVCSGGIIGMGETWQDRIDMAFTLQELGIESIPINALMAIP\\n', 'GTGMEGRPSLPAEDILRTIALFRFINPT\\n', 'ANIRLAAGRKLLPDNGESALLHGASASITGNM\\n', 'LTTSGTTIKEDMEMIARLGLVNH\\n']\n",
      "['>fig|563191.3.peg.1127 Substrate-specific component BioY of biotin ECF\\n', ' transporter [Acidaminococcus sp. D21]\\n', 'MSAVRGKSHDFKKLIMTGIFVGMPIIYIGGC\\n', 'ISMYAVNRVSVWATLLTAVIPFLFGDVVK\\n', 'VVIAAMMAVRVSKFRVGA\\n']\n",
      "['>fig|563191.3.peg.1667 Biotin--protein ligase (EC 6.3.4.9)(EC 6.3.4.10\\n', ')(EC 6.3.4.11)(EC 6.3.4.15) / Biotin operon repressor [Acidaminococcus\\n', ' sp. D21]\\n', 'MRSEILNLLREKSPQPVSGQDLANHFGITRTAVWKHIQSLKKMGYGIEAYTKKGYVLVSV\\n']\n",
      "['LARGWFSP\\n', 'YGKGLWFSLLLKPTFLPQEAPKMTLLAAVAVVRAVRELCGVKAEIKWPNDIL\\n', 'LEGRKLVGILTEMSAEF\\n', 'GHINYLVVGIGINVCVPQSMVPEALRESAVSIDDVAEKPTDRV\\n', 'ALLAKVLDHLETCYETVLKEGFGPIL\\n', 'DEWRRYSVTLGRMVKVIAPDTTYTGKAEDIDEEG\\n', 'ALLVRRENGHVERVLAGDVSIRPAQGKGKYQ\\n']\n",
      "['>fig|563191.3.peg.2063 GTP cyclohydrolase I (EC 3.5.4.16) type 2 [Acid\\n', 'aminococcus sp. D21]\\n', 'MLKDVQGQVDQRHIALKQVGIRDIRWPITLKDPHKGVQHSVAVISLGVN\\n', 'LPHEQRGTHMS\\n', 'RFVECLKEMGPIHPHDLEIVLDGLKEKLGAKKAMLDMRFPYFIEKKAPVSGKTGYLDI\\n', 'SC\\n', 'HYHAEKGETFHLDVGVNVPIHTLCPCSKEISKYGAHNQRARAKITIRSTKPVWIEELVEM\\n', 'AEASAS\\n', 'SPIFSLLKRPDEKFVTEEAYENPRFVEDAAREIALRLNQDERIDWYRVTVESEE\\n', 'SIHNHNAFACVEKED\\n']\n",
      "['>fig|563191.3.peg.2064 Dihydropteroate synthase (EC 2.5.1.15) [Acidami\\n', 'nococcus sp. D21]\\n', 'MYIKIPCDQVSFELKKMGVHPTGIALMAPKAVVEPLRLVGVRAPGANIIKQE\\n', 'MLAMGADA\\n', 'ANAKGTINCSIERTDVILLGSRTQYRHLAHKLRANQGWFGLDEVIRDIEDYLTDHELATI\\n']\n",
      "['PGSDPVPAE\\n', 'EEIRRVVGAISEIRRAYPEAILSVDTYHAATARAALDAGADIINDVTAGTG\\n', 'DPDMLSVAKEKDAPLILM\\n', 'HMRGTPKTMMSADMKAYHNVVGDVMEYLLTRTEACEAMGIGR\\n', 'TKLMLDPGLGFAKDVSGNLELSRGLAE\\n', 'LTGHGIPVLVAGSRKGYIGKVLGDLPPEERLEG\\n', 'TMALSAAAVFAGTQMVRVHDVKENVRLIRMLEAILS\\n', 'CR\\n']\n",
      "['>fig|563191.3.peg.977 Anthranilate synthase, amidotransferase componen\\n', 't (EC 4.1.3.27) @ Para-aminobenzoate synthase, amidotransferase compon\\n', 'ent (EC 2.6.1.85) [Acidaminococcus sp. D21]\\n', 'MMILIIDNYDSFTYNLYQAVGTLTPS\\n', 'VQVVRNDSLTVSEAAALQPQAIILSPGPGKPKEA\\n', 'GITEAVLEELKGQVPILGVCLGHQAMGEVFGGTVT\\n', 'LAPHLVHGKADDIKLDRSCPLFKNL\\n', 'PPVIKGARYHSLIVERDSLPPELLVTAETYAGEIMGLRHRDYEI\\n', 'YGLQFHPESIMTPMGA\\n', 'SIIENFLRHVGALS\\n']\n",
      "['>fig|563191.3.peg.1040 Dihydrofolate synthase (EC 6.3.2.12) @ Folylpol\\n', 'yglutamate synthase (EC 6.3.2.17) [Acidaminococcus sp. D21]\\n', 'MSIDGVDISD\\n', 'EDFAAVTEETKAAVDTFLKNGGEQPTQFEVITAMAFLYFAKEKVDYAVIE\\n', 'VGMGGLWDSTNVIVPELSV\\n', 'ITNVTLEHTDRLGKTIEAIAEQKAGIIKDHVPVVTAADGSA\\n', 'LEVIRVTSEEKSAPLYVYGEDFSATLLA\\n', 'GSMQEQLFLYPFHSGEREVTIHLAGAHQIVNA\\n', 'AVALKAAEVLAKKDPAITEKKILKGMDLTTWPGRMEL\\n', 'IHERPDVILDGAHNPSGVTVLRR\\n', 'ALDTYYPHGHRYFIFGMMGDKDVSEVAQILFRDTDTIYTVLADNGT\\n', 'RAEKPDVLARRLHK\\n', 'KAIPMDDLKTAFETAVHEAGPDDVVLVCGSLYLVGTFKAKGLSEDFL\\n']\n",
      "['>fig|563191.3.peg.1040 Dihydrofolate synthase (EC 6.3.2.12) @ Folylpol\\n', 'yglutamate synthase (EC 6.3.2.17) [Acidaminococcus sp. D21]\\n', 'MSIDGVDISD\\n', 'EDFAAVTEETKAAVDTFLKNGGEQPTQFEVITAMAFLYFAKEKVDYAVIE\\n', 'VGMGGLWDSTNVIVPELSV\\n', 'ITNVTLEHTDRLGKTIEAIAEQKAGIIKDHVPVVTAADGSA\\n', 'LEVIRVTSEEKSAPLYVYGEDFSATLLA\\n', 'GSMQEQLFLYPFHSGEREVTIHLAGAHQIVNA\\n', 'AVALKAAEVLAKKDPAITEKKILKGMDLTTWPGRMEL\\n', 'IHERPDVILDGAHNPSGVTVLRR\\n', 'ALDTYYPHGHRYFIFGMMGDKDVSEVAQILFRDTDTIYTVLADNGT\\n', 'RAEKPDVLARRLHK\\n', 'KAIPMDDLKTAFETAVHEAGPDDVVLVCGSLYLVGTFKAKGLSEDFL\\n']\n",
      "['>fig|563191.3.peg.909 Nicotinate-nucleotide adenylyltransferase (EC 2.\\n', '7.7.18) ## bacterial NadD family [Acidaminococcus sp. D21]\\n', 'MRRQRLGIMGG\\n', 'TFDPIHNGHLAIARAAMDAMALDRVLFIPDYLPPHKAAGWAPAGDRMAM\\n', 'TLLATMDEPRFLVSDMELVR\\n', 'KGPSYTVDTMRILHRRWHRFYDLYFIIGGDSAEALDTWCR\\n', 'IEETMRYCTFLAIGRVGYRERHEDVTKRL\\n', 'AQKGLTRLVWIDAKAPDISSTMIRQRLSRGE\\n', 'SIDGLVPRTVVDYMRQRDLYRR\\n']\n",
      "['>fig|563191.3.peg.1585 NAD synthetase (EC 6.3.1.5) / Glutamine amidotr\\n', 'ansferase chain of NAD synthetase [Acidaminococcus sp. D21]\\n', 'MKLGVFICED\\n', 'GWTENYDFNVPQILTKNGAQLLINISCSPFTLQKNRKRGELFKKQARDCG\\n', 'LPLLYCNGVGIQNNGKNIF\\n', 'TFDGCSTFYTKEGNVLCDAPSFEEAFLTGSFDTETGALSST\\n', 'GTVHPKMTEIEEIYHSLYYGASKFLDQL\\n', 'GIRKMTIGLSGGIDSAVTAAFYVHILGPENVL\\n', 'LLNLPSRFNSSLTKGLAQKMAEALGTHYAVIPIEESV\\n', 'SLTEKQLQSATIHDYGTGKDETL\\n', 'SVSSFALENIQARDRGARVIAGMASLWGGGFSCNSNKSEMTVGYAT\\n', 'FYGDIAGVMALIGD\\n', 'LWKHQVYALGRYLNEQVYHKDVIPDEVFTIKPSAELSQKQTVGTGGDPLHYPYHD\\n', 'YLFRA\\n', 'FVESWGKQAPEEFLAWYLDSTLDARIGCEEGLSHKLFPDAASFISDLERWWNLFCGLSVA\\n', 'KRI\\n', 'QAPPILSISKRAYGYDHRESQLGPYYSRHYLEMKAKALS\\n']\n",
      "['>fig|563191.3.peg.1585 NAD synthetase (EC 6.3.1.5) / Glutamine amidotr\\n', 'ansferase chain of NAD synthetase [Acidaminococcus sp. D21]\\n', 'MKLGVFICED\\n', 'GWTENYDFNVPQILTKNGAQLLINISCSPFTLQKNRKRGELFKKQARDCG\\n', 'LPLLYCNGVGIQNNGKNIF\\n', 'TFDGCSTFYTKEGNVLCDAPSFEEAFLTGSFDTETGALSST\\n', 'GTVHPKMTEIEEIYHSLYYGASKFLDQL\\n', 'GIRKMTIGLSGGIDSAVTAAFYVHILGPENVL\\n', 'LLNLPSRFNSSLTKGLAQKMAEALGTHYAVIPIEESV\\n', 'SLTEKQLQSATIHDYGTGKDETL\\n', 'SVSSFALENIQARDRGARVIAGMASLWGGGFSCNSNKSEMTVGYAT\\n', 'FYGDIAGVMALIGD\\n', 'LWKHQVYALGRYLNEQVYHKDVIPDEVFTIKPSAELSQKQTVGTGGDPLHYPYHD\\n', 'YLFRA\\n', 'FVESWGKQAPEEFLAWYLDSTLDARIGCEEGLSHKLFPDAASFISDLERWWNLFCGLSVA\\n', 'KRI\\n', 'QAPPILSISKRAYGYDHRESQLGPYYSRHYLEMKAKALS\\n']\n",
      "['>fig|563191.3.peg.824 NAD kinase (EC 2.7.1.23) [Acidaminococcus sp. D2\\n', '1]\\n', 'MREWMVGIFPNLNKENVRNALPAVVKAAEHAKIKVAFPLEIAEEFGVPGYDQEDPASLSR\\n', 'LDFAMT\\n', 'LGGDGTILRAARYVTPLQVPLIGVNMGKVGFLTEACFPDLEKVLKKLADGAYTI\\n', 'EKRSMLQLSIWEAGK\\n', 'IIKKGHALNDMVLESADRSRLTRLRMRIAGQPSANFPSDGIIIAS\\n', 'ATGSTAYSLSAGGPVVHPSLSVML\\n', 'ITPICPHALHARPLVIPMKDTIEIEPYPPFEEILVS\\n', 'ADGMTIASLEKTQKVIVERCPFDAKFARLSPLR\\n', 'YYETWQDRLLRNEGQTIV\\n']\n",
      "['>fig|563191.3.peg.108 Nicotinamidase (EC 3.5.1.19) [Acidaminococcus sp\\n', '. D21]\\n', 'MKKKVLIVVDMQEDFVSGSLGTKEAQAIVPRVAEKAAHFDGTVIFTLDTHGADYLKTQEG\\n', 'RI\\n', 'LPVPHCIKGTAGHRLVPELENLAERLGAEKVEKEAFGSLALAGKLEKVRDTIESVELV\\n', 'GLCTDICVVSN\\n', 'ALIIKAALPEVPVLVDSHCCAGVTPHSHGAALETMRSSQVKIL\\n']\n",
      "['>fig|563191.3.peg.777 Nicotinate phosphoribosyltransferase (EC 2.4.2.1\\n', '1) [Acidaminococcus sp. D21]\\n', 'MYPHEPILTVTAPMLDAQLLETAILAEINHQSLIATKTNRI\\n', 'VRAAQGRVVSDFGARRAHN\\n', 'MDAAVYGARAAYIGGANGTATVFAGKEFGIPVGGTMAHSWVMYFDDEFEA\\n', 'FKKYAEIYPD\\n', 'NVVLLIDTYDVIHSGLPNAIRTAKEILHPMGKRLKGVRIDSGDLAYLSKRVRKILDDEG\\n', 'L\\n', 'HDCQIVASNSLDEYTIRSILDQGGRIDSFGVGERLITAKSDPVFGAVYKLVAVENQDKTW\\n', 'TPRIKVS\\n', 'ESIEKITNPGRKDLYRIYNSNGKALCDLIACEGETVDLSAPFRYVDPKEPWRL\\n', 'RHYTNCTAKALKVPVV\\n', 'RDGKVIYQTPSLDAIREFVRHQLTEEIWEEEQRFENPHPHFMDM\\n', 'TPAYYEEKMQVLAQSRKGR\\n']\n",
      "['>fig|563191.3.peg.130 Aspartate 1-decarboxylase (EC 4.1.1.11) [Acidami\\n', 'nococcus sp. D21]\\n', 'MIYTMMHGKLHRATITEANLNYMGSITIDADLLDAAGILPGERVQICNNNNG\\n', 'ARIETYTI\\n', 'AGKRGSGVVCLNGAAARYAQIGDIVIIIAYTQMDEKEARSFTPKVVMLGEGNQPLKSRGT\\n']\n",
      "[]\n"
     ]
    },
    {
     "ename": "IndexError",
     "evalue": "list index out of range",
     "output_type": "error",
     "traceback": [
      "\u001b[0;31m---------------------------------------------------------------------------\u001b[0m",
      "\u001b[0;31mIndexError\u001b[0m                                Traceback (most recent call last)",
      "\u001b[0;32m<ipython-input-20-69f11e0245be>\u001b[0m in \u001b[0;36m<module>\u001b[0;34m\u001b[0m\n\u001b[1;32m     13\u001b[0m \u001b[0;32mfor\u001b[0m \u001b[0mchunk\u001b[0m \u001b[0;32min\u001b[0m \u001b[0mseq_chunks\u001b[0m\u001b[0;34m:\u001b[0m\u001b[0;34m\u001b[0m\u001b[0;34m\u001b[0m\u001b[0m\n\u001b[1;32m     14\u001b[0m     \u001b[0mprint\u001b[0m\u001b[0;34m(\u001b[0m\u001b[0mchunk\u001b[0m\u001b[0;34m)\u001b[0m\u001b[0;34m\u001b[0m\u001b[0;34m\u001b[0m\u001b[0m\n\u001b[0;32m---> 15\u001b[0;31m     \u001b[0mseq_id\u001b[0m \u001b[0;34m=\u001b[0m \u001b[0mchunk\u001b[0m\u001b[0;34m[\u001b[0m\u001b[0;36m0\u001b[0m\u001b[0;34m]\u001b[0m\u001b[0;34m[\u001b[0m\u001b[0;34m:\u001b[0m\u001b[0;34m-\u001b[0m\u001b[0;36m1\u001b[0m\u001b[0;34m]\u001b[0m \u001b[0;34m+\u001b[0m \u001b[0mchunk\u001b[0m\u001b[0;34m[\u001b[0m\u001b[0;36m1\u001b[0m\u001b[0;34m]\u001b[0m\u001b[0;34m[\u001b[0m\u001b[0;34m:\u001b[0m\u001b[0;34m-\u001b[0m\u001b[0;36m1\u001b[0m\u001b[0;34m]\u001b[0m\u001b[0;34m\u001b[0m\u001b[0;34m\u001b[0m\u001b[0m\n\u001b[0m\u001b[1;32m     16\u001b[0m     \u001b[0mseq\u001b[0m \u001b[0;34m=\u001b[0m \u001b[0;34m''\u001b[0m\u001b[0;34m.\u001b[0m\u001b[0mjoin\u001b[0m\u001b[0;34m(\u001b[0m\u001b[0;34m[\u001b[0m\u001b[0mx\u001b[0m\u001b[0;34m.\u001b[0m\u001b[0mstrip\u001b[0m\u001b[0;34m(\u001b[0m\u001b[0;34m)\u001b[0m \u001b[0;32mfor\u001b[0m \u001b[0mx\u001b[0m \u001b[0;32min\u001b[0m \u001b[0mchunk\u001b[0m\u001b[0;34m[\u001b[0m\u001b[0;36m2\u001b[0m\u001b[0;34m:\u001b[0m\u001b[0;34m]\u001b[0m\u001b[0;34m]\u001b[0m\u001b[0;34m)\u001b[0m\u001b[0;34m\u001b[0m\u001b[0;34m\u001b[0m\u001b[0m\n\u001b[1;32m     17\u001b[0m \u001b[0;34m\u001b[0m\u001b[0m\n",
      "\u001b[0;31mIndexError\u001b[0m: list index out of range"
     ]
    }
   ],
   "source": [
    "with open(thile_fa_path) as file:\n",
    "    lines = file.readlines()\n",
    "    \n",
    "    dlms = [i for i, j in enumerate(lines) if j == '\\n']\n",
    "    \n",
    "    seq_chunks = []\n",
    "    previous = 1\n",
    "    for i in dlms:\n",
    "        seq_chunks.append(lines[previous:i])\n",
    "        previous = i + 2\n",
    "\n",
    "fasta = []\n",
    "for chunk in seq_chunks:\n",
    "    print(chunk)\n",
    "    seq_id = chunk[0][:-1] + chunk[1][:-1]\n",
    "    seq = ''.join([x.strip() for x in chunk[2:]])\n",
    "    \n",
    "    fasta.append([seq_id, seq])"
   ]
  },
  {
   "cell_type": "code",
   "execution_count": 17,
   "metadata": {},
   "outputs": [
    {
     "data": {
      "text/plain": [
       "[['>fig|585506.3.peg.1108 Thiazole biosynthesis protein ThiG [Weissella p\\n',\n",
       "  'aramesenteroides ATCC 33313]\\n',\n",
       "  'MVESNDDLIIGGHHFSSRFILGSGKYSYELIDSAIHHAGAQ\\n',\n",
       "  'IITMALRRTNTDEENILNY\\n',\n",
       "  'IPDDVTILPNTSGCTNAEEAIRMARIARELSGSDFIKLEVVPDKTYLLPD\\n',\n",
       "  'NEETIKATKV\\n',\n",
       "  'LADEGFIVMPYMLPDLNAARKLVEAGAAAVMPLGAPIGTNKGLATKELIQILINEIDAP\\n',\n",
       "  'I\\n',\n",
       "  'IVDAGIGRPSQAAEAMEMGAAAVMANTAMATAGDIPLMSEAFKLAVEAGRKGYLAHPGRV\\n',\n",
       "  'LDKKAAA\\n',\n",
       "  'SSPIAGISK\\n'],\n",
       " ['>fig|585506.3.peg.1110 Sulfur carrier protein ThiS [Weissella paramese\\n',\n",
       "  'nteroides ATCC 33313]\\n',\n",
       "  'MIILNGEQTANMVGKTLADLLQEKTEMMQNVVVELNGKIIHREELADR\\n',\n",
       "  'TLSENDRVELIS\\n',\n",
       "  'FVGGG\\n'],\n",
       " ['>fig|585506.3.peg.1109 Sulfur carrier protein adenylyltransferase ThiF\\n',\n",
       "  ' [Weissella paramesenteroides ATCC 33313]\\n',\n",
       "  'MTPKFQGVAVTDFFMGMKERNVAGTTEP\\n',\n",
       "  'LKDARVTIAGAGGLGSNIAIALARSGVGHLTL\\n',\n",
       "  'IDFDVIEMSNLNRQQYKVSQVGMPKVIALKQNLLEFN\\n',\n",
       "  'PFIDIEIHQVKITPDNIETLFAD\\n',\n",
       "  'CDIVCEAFDNPMAKAMLLDGVTNFYPDKPLVMGNGMAGLHMTNEMQ\\n',\n",
       "  'TKQQLSNVYICGDG\\n',\n",
       "  'YSKGVEGLMAPRVMVCAGHEANAILRLLTKQPVLAE\\n'],\n",
       " ['>fig|585506.3.peg.529 Hydroxymethylpyrimidine kinase (EC 2.7.1.49) @ H\\n',\n",
       "  'ydroxymethylpyrimidine phosphate kinase ThiD (EC 2.7.4.7) [Weissella p\\n',\n",
       "  'aramesenteroides ATCC 33313]\\n',\n",
       "  'MIDIPQVITIASTDASGGAGINADLKTFHNQGVYAATIVVG\\n',\n",
       "  'LTAQNTYGVQDQYPIPAKF\\n',\n",
       "  'ILEEFKSIADDLDIKAAKTGALLDEVRVHAVAQGWQSHNLGKLIIDPVMV\\n',\n",
       "  'AKGGSHLLSD\\n',\n",
       "  'TAIDTLKTELIPLAFLITPNLPEAEILVGRSLKTDQDIIHAAMTIQNMGVKNVLIKGGH\\n',\n",
       "  'R\\n',\n",
       "  'ADLKNEFADYILYADGSSEWLTMPGIKTKRTHGTGDTLSSFITANLAKGYDLKDIMPVAK\\n',\n",
       "  'KFTYEAI\\n',\n",
       "  'RQTINVGHGHGPLNHWVAITMGTEDNK\\n'],\n",
       " ['>fig|585506.3.peg.377 Thiamin-phosphate pyrophosphorylase (EC 2.5.1.3)\\n',\n",
       "  ' [Weissella paramesenteroides ATCC 33313]\\n',\n",
       "  'MTKQLYLVTARYDESENEFLNKIETACA\\n',\n",
       "  'NGVTVVQLREKNLSTRDYYELALKVKQITDKY\\n',\n",
       "  'DLPLIIDDRIDICLAVDAHGAHIGDDELPVKVARKLL\\n',\n",
       "  'GKDKILGVSAKTVTRATEAAADG\\n',\n",
       "  'ADYLGTGAIFPTQTKVVTKQTSIDTLKAITAAVNIPVVAIGGITEE\\n',\n",
       "  'RIDVFKESGIVGVA\\n',\n",
       "  'IVSEIMKATNIAQKVQRLKKALEML\\n']]"
      ]
     },
     "execution_count": 17,
     "metadata": {},
     "output_type": "execute_result"
    }
   ],
   "source": [
    "seq_chunks[-5:]"
   ]
  },
  {
   "cell_type": "code",
   "execution_count": 8,
   "metadata": {},
   "outputs": [
    {
     "data": {
      "text/plain": [
       "[['fig|563191.3.peg.556 8-amino-7-oxononanoate synthase (EC 2.3.1.47) [A',\n",
       "  'cidaminococcus sp. D21]MQSTYSHAPLASSSGARLRHRVEKRLRTLHAAGLARTITDLDMIGPVTARSRSGQIYTVFSSNNYLGLTHHPKVLQAAADALIKGGTSSTGSRLISGGIARGSDLEKKLARFKGCEAALLFNTGYLANLGALYTLLKKGDLVFSDELNHASIIDGCRISGAEVIVYRHNDMTDLEQKLAAYASNQTAVKLIVTDGVFSMDGDLCRLPELAALKNRYGTLLMVDDAHAEGVIGPGGRGTEAYFGLQGTIDIQTGTLSKSLASEGGYVASSKEIIAYLTCRARPFVFSTFISPHDTAAAYAALQVLQEEGPILMKTLREHTRFMREGLHTLKLPVLPGITPLIPIIVGSVERAAAIDAFLKERGILLSAIRPPSVPMGTARLRLTLSAAHTKPQLQQVLSLLKEAWQQIP'],\n",
       " ['Generated by MATLAB 23-Feb-2015 15:40:20', ''],\n",
       " ['fig|563191.3.peg.1332 Adenosylmethionine-8-amino-7-oxononanoate amino',\n",
       "  'transferase (EC 2.6.1.62) [Acidaminococcus sp. D21]MNDYQQRDLAHIWHPCSQMKDYESLPPLFVDHAKGAWLYDEKGKAYLDIISSWWANLLGHGNPVINERIKAQLEKLEHVIFAGCTHEAAITLTERLLPLLPKGLTKFHFNDNGSSSVEAALKIAFQYQLQTGHGERTRFMCLSDGYHGETIGALSVGSMDQFARLYQPMMMDNIHVKAPDCYRCPFHKTRENCQGDCIQYAEETFAQSAKETCALIVEPLLQGCAGMRVYPAVYLKKLRALCDAYNVLLICDEIATGFGRTGKLFACDHAGITPDIMTVSKGLTGGYLPMSITLTTDAVYNAFYADYSEHKAFVHSHTYAGNPLGCAAAHGVLDELMDHGVLKKAQTLAPWLTEQLTQRVGEHPHVGEIRHIGLIHALELVADKKKKTPYDPSRRMGYELYQKALSKGLLLRPLGDVLYFNPPLTISREELTFALDVLEDVLQSLS'],\n",
       " ['Generated by MATLAB 23-Feb-2015 15:40:21', ''],\n",
       " ['fig|563191.3.peg.1331 Dethiobiotin synthetase (EC 6.3.3.3) [Acidamino',\n",
       "  'coccus sp. D21]MGRGLFVTGTGTDVGKTFVTALMVKKLREHGYDGSYYKAALSGAETGKDGGLIPGDAQFVKMAAGLSEAAGDLVTYIYKEAVSPHLASRWNKDSIDLTRIQEDYARHLARHDYLTMEGSGGIICPLSWESEKRLLLEDVILALKLPCVIVADAGLGTINASVLTARYLKERGIRAKGFFFNHWDETDPMQQDNWAMTEALTGLPILAGIKDGDRDLSLSADRLAALYE'],\n",
       " ['Generated by MATLAB 23-Feb-2015 15:40:21', ''],\n",
       " ['fig|563191.3.peg.1833 Biotin synthase (EC 2.8.1.6) [Acidaminococcus s',\n",
       "  'p. D21]MSDQTIKTMTQSIIDGYRLKKDDAFVQDMLTMPLAALQEGAGALQRHFCGNHVDFCTIINARSGRCGENCKYCAQAACHHTSCEEYDFLDEKTIMETAKMDQDAGANRFAMVTSGRALTGKDFDKALSIYKAMKKDLTIDLCASHGILSEDQLRRLFASGVTSYHHNIETSRRFFPHICTSHTFDDRIRTIKAAQRAGFCVCSGGIIGMGETWQDRIDMAFTLQELGIESIPINALMAIPGTGMEGRPSLPAEDILRTIALFRFINPTANIRLAAGRKLLPDNGESALLHGASASITGNMLTTSGTTIKEDMEMIARLGLVNH'],\n",
       " ['Generated by MATLAB 23-Feb-2015 15:40:22', ''],\n",
       " ['fig|563191.3.peg.1127 Substrate-specific component BioY of biotin ECF',\n",
       "  ' transporter [Acidaminococcus sp. D21]MSAVRGKSHDFKKLIMTGIFVGMPIIYIGGCISMYAVNRVSVWATLLTAVIPFLFGDVVKVVIAAMMAVRVSKFRVGA']]"
      ]
     },
     "execution_count": 8,
     "metadata": {},
     "output_type": "execute_result"
    }
   ],
   "source": [
    "fa[1:10]"
   ]
  },
  {
   "cell_type": "code",
   "execution_count": null,
   "metadata": {},
   "outputs": [],
   "source": []
  }
 ],
 "metadata": {
  "kernelspec": {
   "display_name": "Python 3",
   "language": "python",
   "name": "python3"
  },
  "language_info": {
   "codemirror_mode": {
    "name": "ipython",
    "version": 3
   },
   "file_extension": ".py",
   "mimetype": "text/x-python",
   "name": "python",
   "nbconvert_exporter": "python",
   "pygments_lexer": "ipython3",
   "version": "3.6.7"
  }
 },
 "nbformat": 4,
 "nbformat_minor": 2
}
